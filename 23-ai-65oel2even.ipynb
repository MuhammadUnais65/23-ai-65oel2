{
  "nbformat": 4,
  "nbformat_minor": 0,
  "metadata": {
    "colab": {
      "provenance": []
    },
    "kernelspec": {
      "name": "python3",
      "display_name": "Python 3"
    },
    "language_info": {
      "name": "python"
    }
  },
  "cells": [
    {
      "cell_type": "code",
      "execution_count": 1,
      "metadata": {
        "colab": {
          "base_uri": "https://localhost:8080/"
        },
        "id": "CsYodPZY6QTW",
        "outputId": "b506d634-e489-4a85-d589-0b71c7bff115"
      },
      "outputs": [
        {
          "output_type": "stream",
          "name": "stdout",
          "text": [
            "True\n",
            "False\n",
            "False\n"
          ]
        }
      ],
      "source": [
        "def follows_pattern(pattern,s):\n",
        "    words=s.split()# splitting the array into two\n",
        "    if len(pattern)!=len(words):\n",
        "        return False\n",
        "    char_to_word={}\n",
        "    word_to_char={}\n",
        "\n",
        "    for char, word in zip (pattern,words):\n",
        "        if char in char_to_word:\n",
        "            if char_to_word[char]!=word:\n",
        "               return False\n",
        "        else:\n",
        "            char_to_word[char]=word\n",
        "\n",
        "        if word in word_to_char:\n",
        "            if word_to_char[word]!=char:\n",
        "                return False\n",
        "        else:\n",
        "            word_to_char[word]=char\n",
        "\n",
        "    return True\n",
        "\n",
        "\n",
        "\n",
        "print(follows_pattern(\"abba\",\"dog cat cat dog\"))\n",
        "print(follows_pattern(\"abba\",\"dog cat cat fish\"))\n",
        "print(follows_pattern(\"aaaa\",\"dog cat cat dog\"))\n",
        "\n",
        "\n",
        "\n",
        "\n",
        "\n",
        "\n",
        ""
      ]
    }
  ]
}